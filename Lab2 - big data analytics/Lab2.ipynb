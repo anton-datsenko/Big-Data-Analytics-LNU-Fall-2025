{
 "cells": [
  {
   "cell_type": "code",
   "execution_count": 1,
   "id": "3b0dec5f",
   "metadata": {},
   "outputs": [
    {
     "data": {
      "text/html": [
       "<div>\n",
       "<style scoped>\n",
       "    .dataframe tbody tr th:only-of-type {\n",
       "        vertical-align: middle;\n",
       "    }\n",
       "\n",
       "    .dataframe tbody tr th {\n",
       "        vertical-align: top;\n",
       "    }\n",
       "\n",
       "    .dataframe thead th {\n",
       "        text-align: right;\n",
       "    }\n",
       "</style>\n",
       "<table border=\"1\" class=\"dataframe\">\n",
       "  <thead>\n",
       "    <tr style=\"text-align: right;\">\n",
       "      <th></th>\n",
       "      <th>Unnamed: 0</th>\n",
       "      <th>tavg</th>\n",
       "      <th>tmin</th>\n",
       "      <th>tmax</th>\n",
       "      <th>prcp</th>\n",
       "      <th>snow</th>\n",
       "      <th>wspd</th>\n",
       "      <th>pres</th>\n",
       "      <th>country</th>\n",
       "      <th>city</th>\n",
       "    </tr>\n",
       "  </thead>\n",
       "  <tbody>\n",
       "    <tr>\n",
       "      <th>0</th>\n",
       "      <td>0</td>\n",
       "      <td>-3.0</td>\n",
       "      <td>-8.000000</td>\n",
       "      <td>1.000000</td>\n",
       "      <td>2.874871</td>\n",
       "      <td>5.813453</td>\n",
       "      <td>12.072765</td>\n",
       "      <td>1014.2371</td>\n",
       "      <td>Afghanistan</td>\n",
       "      <td>Kabul</td>\n",
       "    </tr>\n",
       "    <tr>\n",
       "      <th>1</th>\n",
       "      <td>1</td>\n",
       "      <td>-6.2</td>\n",
       "      <td>13.502185</td>\n",
       "      <td>23.347088</td>\n",
       "      <td>2.874871</td>\n",
       "      <td>5.813453</td>\n",
       "      <td>12.072765</td>\n",
       "      <td>1014.2371</td>\n",
       "      <td>Afghanistan</td>\n",
       "      <td>Kabul</td>\n",
       "    </tr>\n",
       "    <tr>\n",
       "      <th>2</th>\n",
       "      <td>2</td>\n",
       "      <td>-7.7</td>\n",
       "      <td>-14.000000</td>\n",
       "      <td>2.000000</td>\n",
       "      <td>2.874871</td>\n",
       "      <td>5.813453</td>\n",
       "      <td>12.072765</td>\n",
       "      <td>1014.2371</td>\n",
       "      <td>Afghanistan</td>\n",
       "      <td>Kabul</td>\n",
       "    </tr>\n",
       "    <tr>\n",
       "      <th>3</th>\n",
       "      <td>3</td>\n",
       "      <td>-8.4</td>\n",
       "      <td>-15.000000</td>\n",
       "      <td>-2.000000</td>\n",
       "      <td>2.874871</td>\n",
       "      <td>5.813453</td>\n",
       "      <td>12.072765</td>\n",
       "      <td>1014.2371</td>\n",
       "      <td>Afghanistan</td>\n",
       "      <td>Kabul</td>\n",
       "    </tr>\n",
       "    <tr>\n",
       "      <th>4</th>\n",
       "      <td>4</td>\n",
       "      <td>-7.8</td>\n",
       "      <td>-14.000000</td>\n",
       "      <td>23.347088</td>\n",
       "      <td>2.874871</td>\n",
       "      <td>5.813453</td>\n",
       "      <td>12.072765</td>\n",
       "      <td>1014.2371</td>\n",
       "      <td>Afghanistan</td>\n",
       "      <td>Kabul</td>\n",
       "    </tr>\n",
       "  </tbody>\n",
       "</table>\n",
       "</div>"
      ],
      "text/plain": [
       "   Unnamed: 0  tavg       tmin       tmax      prcp      snow       wspd  \\\n",
       "0           0  -3.0  -8.000000   1.000000  2.874871  5.813453  12.072765   \n",
       "1           1  -6.2  13.502185  23.347088  2.874871  5.813453  12.072765   \n",
       "2           2  -7.7 -14.000000   2.000000  2.874871  5.813453  12.072765   \n",
       "3           3  -8.4 -15.000000  -2.000000  2.874871  5.813453  12.072765   \n",
       "4           4  -7.8 -14.000000  23.347088  2.874871  5.813453  12.072765   \n",
       "\n",
       "        pres      country   city  \n",
       "0  1014.2371  Afghanistan  Kabul  \n",
       "1  1014.2371  Afghanistan  Kabul  \n",
       "2  1014.2371  Afghanistan  Kabul  \n",
       "3  1014.2371  Afghanistan  Kabul  \n",
       "4  1014.2371  Afghanistan  Kabul  "
      ]
     },
     "execution_count": 1,
     "metadata": {},
     "output_type": "execute_result"
    }
   ],
   "source": [
    "import pandas as pd\n",
    "import numpy as np\n",
    "import cython \n",
    "\n",
    "from numba import jit\n",
    "\n",
    "data = pd.read_csv('cleaned_dataset.csv')\n",
    "data.head()"
   ]
  },
  {
   "cell_type": "markdown",
   "id": "7995d0d6",
   "metadata": {},
   "source": [
    "Звичайний Python та його швидкодія:"
   ]
  },
  {
   "cell_type": "code",
   "execution_count": 2,
   "id": "866a3fdd",
   "metadata": {},
   "outputs": [
    {
     "data": {
      "text/plain": [
       "np.float64(-1.3641397316532902e+26)"
      ]
     },
     "execution_count": 2,
     "metadata": {},
     "output_type": "execute_result"
    }
   ],
   "source": [
    "def generating_func(previous_sum, s, x, k):\n",
    "    if k == len(x):\n",
    "        return previous_sum\n",
    "    previous_sum += x.iloc[k] + s**k\n",
    "    return previous_sum\n",
    "\n",
    "\n",
    "result = 0\n",
    "for j in range(int(len(data['tmin'])/1e4)):\n",
    "    result += generating_func(result, 0.1, data['tmin'], j)\n",
    "\n",
    "result"
   ]
  },
  {
   "cell_type": "code",
   "execution_count": 3,
   "id": "bb684c8f",
   "metadata": {},
   "outputs": [
    {
     "name": "stdout",
     "output_type": "stream",
     "text": [
      "10.9 ms ± 718 μs per loop (mean ± std. dev. of 7 runs, 100 loops each)\n"
     ]
    }
   ],
   "source": [
    "%%timeit \n",
    "result = 0\n",
    "for j in range(int(len(data['tmin'])/1e3)):\n",
    "    result += generating_func(result, 0.1, data['tmin'], j)\n"
   ]
  },
  {
   "cell_type": "markdown",
   "id": "7c653750",
   "metadata": {},
   "source": [
    "Спробуємо Cython:"
   ]
  },
  {
   "cell_type": "code",
   "execution_count": 4,
   "id": "e1e88702",
   "metadata": {},
   "outputs": [],
   "source": [
    "%load_ext Cython"
   ]
  },
  {
   "cell_type": "code",
   "execution_count": 5,
   "id": "88ec2637",
   "metadata": {},
   "outputs": [],
   "source": [
    "%%cython\n",
    "def  c_generating_func(previous_sum: cython.float, s: cython.float, x, k: cython.int) -> cython.double:\n",
    "    if k == len(x):\n",
    "        return previous_sum\n",
    "    previous_sum += x.iloc[k] + s**k\n",
    "    return previous_sum\n"
   ]
  },
  {
   "cell_type": "code",
   "execution_count": 6,
   "id": "78e661cf",
   "metadata": {},
   "outputs": [
    {
     "name": "stdout",
     "output_type": "stream",
     "text": [
      "1.99 ms ± 968 μs per loop (mean ± std. dev. of 7 runs, 1,000 loops each)\n"
     ]
    }
   ],
   "source": [
    "%%timeit \n",
    "result = 0\n",
    "for j in range(int(len(data['tmin'])/1e4)):\n",
    "    result += c_generating_func(result, 0.1, data['tmin'], j)\n",
    "\n",
    "result"
   ]
  },
  {
   "cell_type": "markdown",
   "id": "0d2db9c6",
   "metadata": {},
   "source": [
    "Спробуємо Numba:"
   ]
  },
  {
   "cell_type": "code",
   "execution_count": 7,
   "id": "279cadb2",
   "metadata": {},
   "outputs": [],
   "source": [
    "@jit\n",
    "def generating_func(previous_sum, s, x, k):\n",
    "    if k == len(x):\n",
    "        return previous_sum\n",
    "    previous_sum += x[k] + s**k\n",
    "    return previous_sum"
   ]
  },
  {
   "cell_type": "code",
   "execution_count": 8,
   "id": "20a23288",
   "metadata": {},
   "outputs": [
    {
     "name": "stdout",
     "output_type": "stream",
     "text": [
      "261 ms ± 61.3 ms per loop (mean ± std. dev. of 7 runs, 1 loop each)\n"
     ]
    }
   ],
   "source": [
    "%%timeit \n",
    "result = 0\n",
    "for j in range(int(len(data['tmin'])/1e4)):\n",
    "    result += generating_func(result, 0.1, np.array(data['tmin'].values), j)\n",
    "\n",
    "result"
   ]
  },
  {
   "cell_type": "markdown",
   "id": "5e1d8199",
   "metadata": {},
   "source": [
    "Формула Блека-Скоулза, туторіал:"
   ]
  },
  {
   "cell_type": "code",
   "execution_count": 9,
   "id": "2790bb7e",
   "metadata": {},
   "outputs": [
    {
     "data": {
      "image/png": "[encoded data removed]",
      "text/plain": [
       "<Figure size 1200x600 with 1 Axes>"
      ]
     },
     "metadata": {},
     "output_type": "display_data"
    }
   ],
   "source": [
    "# Import yfinance library and pyplot module from matplotlib\n",
    "import yfinance as yf\n",
    "import matplotlib.pyplot as plt\n",
    "\n",
    "import datetime\n",
    "from datetime import timedelta\n",
    "\n",
    "# Netflix\n",
    "stock = 'MSFT'\n",
    "ticker = yf.Ticker(stock)\n",
    "today = datetime.date.today()\n",
    "\n",
    "stock_data = ticker.history(\n",
    "    interval='1d', \n",
    "    start=today-timedelta(days=4*365), \n",
    "    end=today\n",
    "    )\n",
    "\n",
    "# Plotting the closing price `Close` over the last 4 years\n",
    "stock_data.plot(y='Close', figsize=(12,6))\n",
    "plt.title(f'{stock} Closing Prices time series')\n",
    "plt.xlabel('Date')\n",
    "plt.ylabel('Closing Price')\n",
    "plt.legend()\n",
    "plt.show()"
   ]
  },
  {
   "cell_type": "code",
   "execution_count": 10,
   "id": "8caef147",
   "metadata": {},
   "outputs": [
    {
     "data": {
      "image/png": "[encoded data removed]",
      "text/plain": [
       "<Figure size 1200x600 with 1 Axes>"
      ]
     },
     "metadata": {},
     "output_type": "display_data"
    }
   ],
   "source": [
    "# Returns distributions\n",
    "daily_returns = stock_data['Close'].pct_change()\n",
    "\n",
    "# log returns distributions\n",
    "daily_log_returns = np.log(daily_returns+1)\n",
    "\n",
    "# Plotting histogram of the log-returns\n",
    "daily_log_returns.hist(bins=50, figsize=(12,6))\n",
    "plt.title(f'{stock} Daily Log Returns Distribution')\n",
    "plt.xlabel('Daily Log Returns')\n",
    "plt.ylabel('Frequency')\n",
    "plt.show()"
   ]
  },
  {
   "cell_type": "code",
   "execution_count": 11,
   "id": "ba4edd98",
   "metadata": {},
   "outputs": [
    {
     "name": "stdout",
     "output_type": "stream",
     "text": [
      "The annualised volatility of MSFT is 0.26956269778831177\n"
     ]
    }
   ],
   "source": [
    "volatility = np.std(daily_log_returns)*np.sqrt(252)\n",
    "print(f\"The annualised volatility of {stock} is {volatility}\")"
   ]
  },
  {
   "cell_type": "code",
   "execution_count": 12,
   "id": "3091cc2b",
   "metadata": {},
   "outputs": [],
   "source": [
    "# get all option expirey date\n",
    "expirations = ticker.options\n",
    "\n",
    "# Selecting element 7 as the expiry date i.e. 2025-01-17\n",
    "# list options with a chosen expirey\n",
    "expiry = expirations[0]\n",
    "\n",
    "options = ticker.option_chain(date = expiry)\n",
    "\n",
    "# Get the option with index 2\n",
    "option = options.calls.iloc[2] \n",
    "purchase_date = option.lastTradeDate # Date the Contract was priced\n",
    "time_to_maturity = pd.Timestamp(expiry + ' 16:00:00', tz='EST') - purchase_date.tz_convert('EST') # The number of days to maturity"
   ]
  },
  {
   "cell_type": "code",
   "execution_count": 13,
   "id": "8833e059",
   "metadata": {},
   "outputs": [
    {
     "name": "stdout",
     "output_type": "stream",
     "text": [
      "Current stock price: 494.86\n"
     ]
    }
   ],
   "source": [
    "# stock price when option was traded\n",
    "minute_data = ticker.history(\n",
    "    interval='1m', \n",
    "    start=purchase_date-timedelta(minutes=1), \n",
    "    end=purchase_date+timedelta(minutes=5)\n",
    "    )\n",
    "\n",
    "# Price of the stock\n",
    "stock_price = minute_data.iloc[1].Close\n",
    "\n",
    "print(f'Current stock price: {stock_price:.2f}')"
   ]
  },
  {
   "cell_type": "code",
   "execution_count": 14,
   "id": "3b65af0d",
   "metadata": {},
   "outputs": [
    {
     "name": "stdout",
     "output_type": "stream",
     "text": [
      "Risk Free Rate: 3.91%\n"
     ]
    }
   ],
   "source": [
    "# Creating a ticker for `^IRX`\n",
    "treasury_3m = yf.Ticker('^IRX')\n",
    "\n",
    "# Risk Free Rate on date the option was purchased (on `purchase_date`)\n",
    "minute_history_bond = treasury_3m.history(\n",
    "    interval='1m', \n",
    "    start=purchase_date-timedelta(minutes=1), \n",
    "    end=purchase_date+timedelta(minutes=5)\n",
    "    )\n",
    "\n",
    "# Risk free rate\n",
    "usbond = minute_history_bond.iloc[0].Close\n",
    "\n",
    "print(f'Risk Free Rate: {usbond:.2f}%')"
   ]
  },
  {
   "cell_type": "code",
   "execution_count": 15,
   "id": "eb154292",
   "metadata": {},
   "outputs": [],
   "source": [
    "from scipy.stats import norm\n",
    "\n",
    "# Black-Scholes Formula\n",
    "def BlackScholes(S, K, T, r, sigma):\n",
    "    d1 = ((r + 0.5*sigma**2)*T + np.log(S/K))/(sigma*np.sqrt(T))\n",
    "    d2 = d1 - sigma*np.sqrt(T)\n",
    "    C = S*norm.cdf(d1) - K*np.exp(-r*T)*norm.cdf(d2)\n",
    "    return C\n"
   ]
  },
  {
   "cell_type": "code",
   "execution_count": 16,
   "id": "6555cfba",
   "metadata": {},
   "outputs": [
    {
     "name": "stdout",
     "output_type": "stream",
     "text": [
      "240 μs ± 3.97 μs per loop (mean ± std. dev. of 7 runs, 1,000 loops each)\n"
     ]
    }
   ],
   "source": [
    "%%timeit\n",
    "# Fair price of the call option\n",
    "Call = BlackScholes(\n",
    "    stock_price, \n",
    "    option.strike, \n",
    "    time_to_maturity.days/365, \n",
    "    usbond/100, \n",
    "    volatility\n",
    "    )\n",
    "Call"
   ]
  },
  {
   "cell_type": "code",
   "execution_count": 17,
   "id": "abd21dd9",
   "metadata": {},
   "outputs": [],
   "source": [
    "def C_BlackScholes(S: cython.float, K: cython.float, T: cython.float, r: cython.float, sigma: cython.float) -> cython.float:\n",
    "    d1: cython.float = ((r + 0.5*sigma**2)*T + np.log(S/K))/(sigma*np.sqrt(T))\n",
    "    d2: cython.float = d1 - sigma*np.sqrt(T)\n",
    "    C: cython.float = S*norm.cdf(d1) - K*np.exp(-r*T)*norm.cdf(d2)\n",
    "    return C"
   ]
  },
  {
   "cell_type": "code",
   "execution_count": 18,
   "id": "75430038",
   "metadata": {},
   "outputs": [
    {
     "name": "stdout",
     "output_type": "stream",
     "text": [
      "279 μs ± 53.2 μs per loop (mean ± std. dev. of 7 runs, 1,000 loops each)\n"
     ]
    }
   ],
   "source": [
    "%%timeit\n",
    "# Fair price of the call option\n",
    "Call = C_BlackScholes(\n",
    "    stock_price, \n",
    "    option.strike, \n",
    "    time_to_maturity.days/365, \n",
    "    usbond/100, \n",
    "    volatility\n",
    "    )\n",
    "Call"
   ]
  },
  {
   "cell_type": "code",
   "execution_count": 19,
   "id": "cb2cf27c",
   "metadata": {},
   "outputs": [],
   "source": [
    "@jit\n",
    "def erf_approx(x):\n",
    "    \"\"\"Numerical approximation of erf(x) using Abramowitz & Stegun 7.1.26\"\"\"\n",
    "    # constants\n",
    "    a1, a2, a3, a4, a5 = 0.254829592, -0.284496736, 1.421413741, -1.453152027, 1.061405429\n",
    "    p = 0.3275911\n",
    "\n",
    "    sign = np.sign(x)\n",
    "    x = np.abs(x)\n",
    "\n",
    "    t = 1.0 / (1.0 + p * x)\n",
    "    y = 1.0 - (((((a5 * t + a4) * t) + a3) * t + a2) * t + a1) * t * np.exp(-x * x)\n",
    "\n",
    "    return sign * y\n",
    "\n",
    "@jit\n",
    "def normal_cdf(x, mu=0.0, sigma=1.0):\n",
    "    \"\"\"Normal CDF using erf approximation (NumPy-only).\"\"\"\n",
    "    z = (x - mu) / (sigma * np.sqrt(2))\n",
    "    return 0.5 * (1.0 + erf_approx(z))\n",
    "\n",
    "@jit\n",
    "def jit_BlackScholes(S, K, T, r, sigma):\n",
    "    d1 = ((r + 0.5*sigma**2)*T + np.log(S/K))/(sigma*np.sqrt(T))\n",
    "    d2 = d1 - sigma*np.sqrt(T)\n",
    "    C = S*np.array([normal_cdf(d1)]) - K*np.exp(-r*T)*np.array([normal_cdf(d2)])\n",
    "    return C\n"
   ]
  },
  {
   "cell_type": "code",
   "execution_count": 20,
   "id": "3449e808",
   "metadata": {},
   "outputs": [
    {
     "name": "stdout",
     "output_type": "stream",
     "text": [
      "The slowest run took 8.84 times longer than the fastest. This could mean that an intermediate result is being cached.\n",
      "24.2 μs ± 27.8 μs per loop (mean ± std. dev. of 7 runs, 1 loop each)\n"
     ]
    }
   ],
   "source": [
    "%%timeit\n",
    "Call = jit_BlackScholes(\n",
    "    stock_price, \n",
    "    option.strike, \n",
    "    time_to_maturity.days/365, \n",
    "    usbond/100, \n",
    "    volatility\n",
    "    )"
   ]
  }
 ],
 "metadata": {
  "kernelspec": {
   "display_name": "lab2",
   "language": "python",
   "name": "python3"
  },
  "language_info": {
   "codemirror_mode": {
    "name": "ipython",
    "version": 3
   },
   "file_extension": ".py",
   "mimetype": "text/x-python",
   "name": "python",
   "nbconvert_exporter": "python",
   "pygments_lexer": "ipython3",
   "version": "3.13.1"
  }
 },
 "nbformat": 4,
 "nbformat_minor": 5
}
